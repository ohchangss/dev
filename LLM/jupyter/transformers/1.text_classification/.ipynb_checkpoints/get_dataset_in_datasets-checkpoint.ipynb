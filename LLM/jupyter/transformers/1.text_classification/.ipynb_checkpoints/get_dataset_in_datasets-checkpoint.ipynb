{
 "cells": [
  {
   "cell_type": "code",
   "execution_count": 16,
   "id": "c297b13c-32f6-4af0-b363-23db615c82a0",
   "metadata": {
    "scrolled": true
   },
   "outputs": [],
   "source": [
    "from datasets import load_dataset"
   ]
  },
  {
   "cell_type": "code",
   "execution_count": 17,
   "id": "1917d77a-3088-4e55-a298-5f79cbb8deae",
   "metadata": {},
   "outputs": [
    {
     "name": "stdout",
     "output_type": "stream",
     "text": [
      "Total number of datasets: 224254\n"
     ]
    }
   ],
   "source": [
    "from huggingface_hub import HfApi\n",
    "\n",
    "# HfApi 인스턴스 생성\n",
    "api = HfApi()\n",
    "\n",
    "# 모든 데이터셋 리스트 가져오기 (generator를 리스트로 변환)\n",
    "datasets_list = list(api.list_datasets())\n",
    "\n",
    "# 데이터셋의 개수 출력\n",
    "print(f\"Total number of datasets: {len(datasets_list)}\")\n"
   ]
  },
  {
   "cell_type": "code",
   "execution_count": 18,
   "id": "4e9b8029-666d-479a-b9b3-c225ba5317f6",
   "metadata": {},
   "outputs": [
    {
     "data": {
      "text/plain": [
       "[DatasetInfo(id='LLM360/TxT360', author='LLM360', sha='064a034e9691800cfd80c54fb9c45c87136afb24', created_at=datetime.datetime(2024, 10, 3, 16, 4, 34, tzinfo=datetime.timezone.utc), last_modified=datetime.datetime(2024, 10, 9, 9, 58, 32, tzinfo=datetime.timezone.utc), private=False, gated=False, disabled=False, downloads=148, downloads_all_time=None, likes=80, paperswithcode_id=None, tags=['license:odc-by', 'region:us'], trending_score=80, card_data=None, siblings=None)]"
      ]
     },
     "execution_count": 18,
     "metadata": {},
     "output_type": "execute_result"
    }
   ],
   "source": [
    "datasets_list[:1]"
   ]
  },
  {
   "cell_type": "code",
   "execution_count": 19,
   "id": "8658c0f4-9bb7-4002-ada2-5349fa55a05d",
   "metadata": {},
   "outputs": [],
   "source": [
    "emotion=load_dataset(\"emotion\")"
   ]
  },
  {
   "cell_type": "code",
   "execution_count": 20,
   "id": "6c278dae-39c7-4f89-819d-0073efbf8108",
   "metadata": {},
   "outputs": [
    {
     "data": {
      "text/plain": [
       "DatasetDict({\n",
       "    train: Dataset({\n",
       "        features: ['text', 'label'],\n",
       "        num_rows: 16000\n",
       "    })\n",
       "    validation: Dataset({\n",
       "        features: ['text', 'label'],\n",
       "        num_rows: 2000\n",
       "    })\n",
       "    test: Dataset({\n",
       "        features: ['text', 'label'],\n",
       "        num_rows: 2000\n",
       "    })\n",
       "})"
      ]
     },
     "execution_count": 20,
     "metadata": {},
     "output_type": "execute_result"
    }
   ],
   "source": [
    "emotion"
   ]
  },
  {
   "cell_type": "code",
   "execution_count": 21,
   "id": "e9f80266-1daf-4000-a0e1-d1c7ad4c3782",
   "metadata": {},
   "outputs": [],
   "source": [
    "train_ds=emotion['train']"
   ]
  },
  {
   "cell_type": "code",
   "execution_count": 22,
   "id": "dff8c93c-d51e-4540-8fd0-a0ab6f853a5b",
   "metadata": {},
   "outputs": [
    {
     "data": {
      "text/plain": [
       "Dataset({\n",
       "    features: ['text', 'label'],\n",
       "    num_rows: 16000\n",
       "})"
      ]
     },
     "execution_count": 22,
     "metadata": {},
     "output_type": "execute_result"
    }
   ],
   "source": [
    "train_ds"
   ]
  },
  {
   "cell_type": "code",
   "execution_count": 23,
   "id": "f5046c14-cd2e-48e0-b1fb-8e19f6955107",
   "metadata": {},
   "outputs": [
    {
     "data": {
      "text/plain": [
       "['text', 'label']"
      ]
     },
     "execution_count": 23,
     "metadata": {},
     "output_type": "execute_result"
    }
   ],
   "source": [
    "train_ds.column_names"
   ]
  },
  {
   "cell_type": "code",
   "execution_count": 24,
   "id": "78c50e4d-3d56-42bb-a7f0-e928f3122806",
   "metadata": {},
   "outputs": [
    {
     "name": "stdout",
     "output_type": "stream",
     "text": [
      "{'text': Value(dtype='string', id=None), 'label': ClassLabel(names=['sadness', 'joy', 'love', 'anger', 'fear', 'surprise'], id=None)}\n"
     ]
    }
   ],
   "source": [
    "print(train_ds.features)"
   ]
  },
  {
   "cell_type": "code",
   "execution_count": 25,
   "id": "d9f99a2a-5a3d-4917-9eb8-d82178f53ad3",
   "metadata": {},
   "outputs": [
    {
     "name": "stdout",
     "output_type": "stream",
     "text": [
      "{'text': ['i didnt feel humiliated'], 'label': [0]}\n"
     ]
    }
   ],
   "source": [
    "print(train_ds[:1])"
   ]
  },
  {
   "cell_type": "code",
   "execution_count": 26,
   "id": "531cc608-6d02-416d-b047-5e5392d9179d",
   "metadata": {},
   "outputs": [
    {
     "data": {
      "text/plain": [
       "{'text': ['i didnt feel humiliated',\n",
       "  'i can go from feeling so hopeless to so damned hopeful just from being around someone who cares and is awake',\n",
       "  'im grabbing a minute to post i feel greedy wrong',\n",
       "  'i am ever feeling nostalgic about the fireplace i will know that it is still on the property',\n",
       "  'i am feeling grouchy'],\n",
       " 'label': [0, 0, 3, 2, 3]}"
      ]
     },
     "execution_count": 26,
     "metadata": {},
     "output_type": "execute_result"
    }
   ],
   "source": [
    "train_ds[:5]"
   ]
  },
  {
   "cell_type": "code",
   "execution_count": 27,
   "id": "e31fe10a-6506-4608-8304-b068cfb4f001",
   "metadata": {},
   "outputs": [
    {
     "data": {
      "text/plain": [
       "['i didnt feel humiliated',\n",
       " 'i can go from feeling so hopeless to so damned hopeful just from being around someone who cares and is awake',\n",
       " 'im grabbing a minute to post i feel greedy wrong',\n",
       " 'i am ever feeling nostalgic about the fireplace i will know that it is still on the property',\n",
       " 'i am feeling grouchy']"
      ]
     },
     "execution_count": 27,
     "metadata": {},
     "output_type": "execute_result"
    }
   ],
   "source": [
    "train_ds['text'][:5]"
   ]
  },
  {
   "cell_type": "code",
   "execution_count": 28,
   "id": "a6d2ddcc-4ad2-4130-a8f6-f87281c2ba7a",
   "metadata": {},
   "outputs": [],
   "source": [
    "import pandas as pd"
   ]
  },
  {
   "cell_type": "code",
   "execution_count": 29,
   "id": "5e3a8794-4e83-4112-b90e-70a922bad935",
   "metadata": {},
   "outputs": [],
   "source": [
    "emotion.set_format(type=\"pandas\")"
   ]
  },
  {
   "cell_type": "code",
   "execution_count": 30,
   "id": "13b18d5f-9aa2-4068-b15a-d0aecdd4dac0",
   "metadata": {},
   "outputs": [
    {
     "data": {
      "text/html": [
       "<div>\n",
       "<style scoped>\n",
       "    .dataframe tbody tr th:only-of-type {\n",
       "        vertical-align: middle;\n",
       "    }\n",
       "\n",
       "    .dataframe tbody tr th {\n",
       "        vertical-align: top;\n",
       "    }\n",
       "\n",
       "    .dataframe thead th {\n",
       "        text-align: right;\n",
       "    }\n",
       "</style>\n",
       "<table border=\"1\" class=\"dataframe\">\n",
       "  <thead>\n",
       "    <tr style=\"text-align: right;\">\n",
       "      <th></th>\n",
       "      <th>text</th>\n",
       "      <th>label</th>\n",
       "    </tr>\n",
       "  </thead>\n",
       "  <tbody>\n",
       "    <tr>\n",
       "      <th>0</th>\n",
       "      <td>i didnt feel humiliated</td>\n",
       "      <td>0</td>\n",
       "    </tr>\n",
       "    <tr>\n",
       "      <th>1</th>\n",
       "      <td>i can go from feeling so hopeless to so damned...</td>\n",
       "      <td>0</td>\n",
       "    </tr>\n",
       "    <tr>\n",
       "      <th>2</th>\n",
       "      <td>im grabbing a minute to post i feel greedy wrong</td>\n",
       "      <td>3</td>\n",
       "    </tr>\n",
       "    <tr>\n",
       "      <th>3</th>\n",
       "      <td>i am ever feeling nostalgic about the fireplac...</td>\n",
       "      <td>2</td>\n",
       "    </tr>\n",
       "    <tr>\n",
       "      <th>4</th>\n",
       "      <td>i am feeling grouchy</td>\n",
       "      <td>3</td>\n",
       "    </tr>\n",
       "  </tbody>\n",
       "</table>\n",
       "</div>"
      ],
      "text/plain": [
       "                                                text  label\n",
       "0                            i didnt feel humiliated      0\n",
       "1  i can go from feeling so hopeless to so damned...      0\n",
       "2   im grabbing a minute to post i feel greedy wrong      3\n",
       "3  i am ever feeling nostalgic about the fireplac...      2\n",
       "4                               i am feeling grouchy      3"
      ]
     },
     "execution_count": 30,
     "metadata": {},
     "output_type": "execute_result"
    }
   ],
   "source": [
    "df = emotion['train'][:]\n",
    "df.head()"
   ]
  },
  {
   "cell_type": "code",
   "execution_count": 31,
   "id": "e451494b-f77d-470a-9042-6050dfe5152e",
   "metadata": {},
   "outputs": [],
   "source": [
    "def label_int2str(row):\n",
    "    return emotion[\"train\"].features['label'].int2str(row)\n",
    "\n",
    "df[\"label_name\"]=df[\"label\"].apply(label_int2str)"
   ]
  },
  {
   "cell_type": "code",
   "execution_count": 32,
   "id": "a4b23660-b3d5-424b-ab63-db70cc1d4664",
   "metadata": {},
   "outputs": [
    {
     "data": {
      "text/html": [
       "<div>\n",
       "<style scoped>\n",
       "    .dataframe tbody tr th:only-of-type {\n",
       "        vertical-align: middle;\n",
       "    }\n",
       "\n",
       "    .dataframe tbody tr th {\n",
       "        vertical-align: top;\n",
       "    }\n",
       "\n",
       "    .dataframe thead th {\n",
       "        text-align: right;\n",
       "    }\n",
       "</style>\n",
       "<table border=\"1\" class=\"dataframe\">\n",
       "  <thead>\n",
       "    <tr style=\"text-align: right;\">\n",
       "      <th></th>\n",
       "      <th>text</th>\n",
       "      <th>label</th>\n",
       "      <th>label_name</th>\n",
       "    </tr>\n",
       "  </thead>\n",
       "  <tbody>\n",
       "    <tr>\n",
       "      <th>0</th>\n",
       "      <td>i didnt feel humiliated</td>\n",
       "      <td>0</td>\n",
       "      <td>sadness</td>\n",
       "    </tr>\n",
       "    <tr>\n",
       "      <th>1</th>\n",
       "      <td>i can go from feeling so hopeless to so damned...</td>\n",
       "      <td>0</td>\n",
       "      <td>sadness</td>\n",
       "    </tr>\n",
       "    <tr>\n",
       "      <th>2</th>\n",
       "      <td>im grabbing a minute to post i feel greedy wrong</td>\n",
       "      <td>3</td>\n",
       "      <td>anger</td>\n",
       "    </tr>\n",
       "    <tr>\n",
       "      <th>3</th>\n",
       "      <td>i am ever feeling nostalgic about the fireplac...</td>\n",
       "      <td>2</td>\n",
       "      <td>love</td>\n",
       "    </tr>\n",
       "    <tr>\n",
       "      <th>4</th>\n",
       "      <td>i am feeling grouchy</td>\n",
       "      <td>3</td>\n",
       "      <td>anger</td>\n",
       "    </tr>\n",
       "  </tbody>\n",
       "</table>\n",
       "</div>"
      ],
      "text/plain": [
       "                                                text  label label_name\n",
       "0                            i didnt feel humiliated      0    sadness\n",
       "1  i can go from feeling so hopeless to so damned...      0    sadness\n",
       "2   im grabbing a minute to post i feel greedy wrong      3      anger\n",
       "3  i am ever feeling nostalgic about the fireplac...      2       love\n",
       "4                               i am feeling grouchy      3      anger"
      ]
     },
     "execution_count": 32,
     "metadata": {},
     "output_type": "execute_result"
    }
   ],
   "source": [
    "df.head()"
   ]
  },
  {
   "cell_type": "markdown",
   "id": "bf109a6c-e79e-4d56-bbdc-c0fefaa8cd18",
   "metadata": {},
   "source": [
    "## 클래스 수 확인"
   ]
  },
  {
   "cell_type": "code",
   "execution_count": 33,
   "id": "05f627e1-08c9-4cac-994c-60fd2fbf1ab4",
   "metadata": {},
   "outputs": [
    {
     "data": {
      "image/png": "[encoded data removed]",
      "text/plain": [
       "<Figure size 640x480 with 1 Axes>"
      ]
     },
     "metadata": {},
     "output_type": "display_data"
    }
   ],
   "source": [
    "import matplotlib.pyplot as plt\n",
    "df['label_name'].value_counts(ascending=True).plot.barh()\n",
    "plt.title(\"Frequency of Classes\")\n",
    "plt.show()"
   ]
  },
  {
   "cell_type": "code",
   "execution_count": 34,
   "id": "c07d7da4-347f-4cc1-a569-a89d2b1eca28",
   "metadata": {},
   "outputs": [
    {
     "data": {
      "text/plain": [
       "'\\n데이터셋의 불균형이 심하게 보인다. \\n1. 소수 클래스를 랜덤하게 오버 샘플링 한다.\\n2. 다수 클래스를 랜덤하게 언더 샘플링 한다.\\n3. 클래스의 대표성이 부족하다면 레이블된 데이터를 더 많이 수집한다.\\n\\n>>> imbalanced-learn 라이브러리 활용(https://oreil.ly/5XBhb)\\n다만 훈련/테스트 분할을 만들기 전에는 샘플링 전략을 적용하면 안된다. 그렇지 않으면 분할 사이에 많은 정보가 새나간다.\\n일반적으로 훈련 세트에만 샘플링 전략을 사용하기 때문.\\n\\n트래인, 테스트로 분할하고 트래인 데이터셋에 대해서 불균형을 해소한다.\\n'"
      ]
     },
     "execution_count": 34,
     "metadata": {},
     "output_type": "execute_result"
    }
   ],
   "source": [
    "'''\n",
    "데이터셋의 불균형이 심하게 보인다. \n",
    "1. 소수 클래스를 랜덤하게 오버 샘플링 한다.\n",
    "2. 다수 클래스를 랜덤하게 언더 샘플링 한다.\n",
    "3. 클래스의 대표성이 부족하다면 레이블된 데이터를 더 많이 수집한다.\n",
    "\n",
    ">>> imbalanced-learn 라이브러리 활용(https://oreil.ly/5XBhb)\n",
    "다만 훈련/테스트 분할을 만들기 전에는 샘플링 전략을 적용하면 안된다. 그렇지 않으면 분할 사이에 많은 정보가 새나간다.\n",
    "일반적으로 훈련 세트에만 샘플링 전략을 사용하기 때문.\n",
    "\n",
    "트래인, 테스트로 분할하고 트래인 데이터셋에 대해서 불균형을 해소한다.\n",
    "'''"
   ]
  },
  {
   "cell_type": "markdown",
   "id": "d321dfed-2cac-45a6-9817-17e832633fb6",
   "metadata": {},
   "source": [
    "## 클래스별 길이 확인"
   ]
  },
  {
   "cell_type": "code",
   "execution_count": 35,
   "id": "9415ed32-40b2-4251-bae6-bb0ed8a3ae45",
   "metadata": {},
   "outputs": [
    {
     "data": {
      "image/png": "[encoded data removed]",
      "text/plain": [
       "<Figure size 640x480 with 1 Axes>"
      ]
     },
     "metadata": {},
     "output_type": "display_data"
    }
   ],
   "source": [
    "df['Words Per Tweet'] = df['text'].str.split().apply(len)\n",
    "df.boxplot(\"Words Per Tweet\", by= \"label_name\",grid = False,\n",
    "          showfliers=False, color =\"black\")\n",
    "plt.suptitle(\"\")\n",
    "plt.xlabel(\"\")\n",
    "plt.show()"
   ]
  },
  {
   "cell_type": "markdown",
   "id": "2c47c3d1-b1a4-40c9-b9e2-01a8912399c7",
   "metadata": {},
   "source": [
    "## 문자 토큰화"
   ]
  },
  {
   "cell_type": "code",
   "execution_count": 36,
   "id": "ca4b7426-3164-4167-aed3-04c8c66fa77c",
   "metadata": {},
   "outputs": [
    {
     "name": "stdout",
     "output_type": "stream",
     "text": [
      "['T', 'o', 'k', 'e', 'n', 'i', 'z', 'i', 'n', 'g', ' ', 't', 'e', 'x', 't', ' ', 'i', 's', ' ', 'a', ' ', 'c', 'o', 'r', 'e', ' ', 't', 'a', 's', 'k', ' ', 'o', 'f', ' ', 'N', 'L', 'P', '.']\n"
     ]
    }
   ],
   "source": [
    "text = \"Tokenizing text is a core task of NLP.\"\n",
    "tokenized_text = list(text)\n",
    "print(tokenized_text)"
   ]
  },
  {
   "cell_type": "code",
   "execution_count": 37,
   "id": "de89dece-1497-4d64-b374-0e2983db808a",
   "metadata": {},
   "outputs": [
    {
     "name": "stdout",
     "output_type": "stream",
     "text": [
      "{' ': 0, '.': 1, 'L': 2, 'N': 3, 'P': 4, 'T': 5, 'a': 6, 'c': 7, 'e': 8, 'f': 9, 'g': 10, 'i': 11, 'k': 12, 'n': 13, 'o': 14, 'r': 15, 's': 16, 't': 17, 'x': 18, 'z': 19}\n"
     ]
    }
   ],
   "source": [
    "token2idx = {ch:idx for idx, ch in enumerate(sorted(set(tokenized_text)))}\n",
    "print(token2idx)"
   ]
  },
  {
   "cell_type": "code",
   "execution_count": 38,
   "id": "b62f057f-f331-481e-8532-7c697b15807f",
   "metadata": {},
   "outputs": [
    {
     "name": "stdout",
     "output_type": "stream",
     "text": [
      "[5, 14, 12, 8, 13, 11, 19, 11, 13, 10, 0, 17, 8, 18, 17, 0, 11, 16, 0, 6, 0, 7, 14, 15, 8, 0, 17, 6, 16, 12, 0, 14, 9, 0, 3, 2, 4, 1]\n"
     ]
    }
   ],
   "source": [
    "input_ids = [token2idx[token] for token in tokenized_text]\n",
    "print(input_ids)"
   ]
  },
  {
   "cell_type": "markdown",
   "id": "36575caa-b75b-48a3-8a4f-6c3905860a6a",
   "metadata": {},
   "source": [
    "## Torch onehot"
   ]
  },
  {
   "cell_type": "code",
   "execution_count": 39,
   "id": "e413accd-b35e-4b44-8c36-016faeb4b42d",
   "metadata": {},
   "outputs": [],
   "source": [
    "import torch\n",
    "import torch.nn.functional as F"
   ]
  },
  {
   "cell_type": "code",
   "execution_count": 40,
   "id": "71a1559d-e79b-4727-a663-fb946ce4aaf9",
   "metadata": {},
   "outputs": [
    {
     "name": "stdout",
     "output_type": "stream",
     "text": [
      "torch.Size([38, 20])\n"
     ]
    }
   ],
   "source": [
    "input_ids=torch.tensor(input_ids)\n",
    "one_hot_encoding = F.one_hot(input_ids, num_classes=len(token2idx))\n",
    "print(one_hot_encoding.shape)"
   ]
  },
  {
   "cell_type": "code",
   "execution_count": 41,
   "id": "f48da461-9817-47ed-955a-9c40ac098998",
   "metadata": {},
   "outputs": [
    {
     "name": "stdout",
     "output_type": "stream",
     "text": [
      "토큰 : T\n",
      "텐서 인덱스 : 5\n",
      "원핫 인코딩 : tensor([0, 0, 0, 0, 0, 1, 0, 0, 0, 0, 0, 0, 0, 0, 0, 0, 0, 0, 0, 0])\n"
     ]
    }
   ],
   "source": [
    "print(f\"토큰 : {tokenized_text[0]}\")\n",
    "print(f\"텐서 인덱스 : {input_ids[0]}\")\n",
    "print(f\"원핫 인코딩 : {one_hot_encoding[0]}\")"
   ]
  },
  {
   "cell_type": "markdown",
   "id": "4567b9ce-987c-4804-9577-ff457ca7f73c",
   "metadata": {},
   "source": [
    "## 단어 토큰화"
   ]
  },
  {
   "cell_type": "code",
   "execution_count": 42,
   "id": "de73acaa-c357-4d9b-8aed-31209b281d3c",
   "metadata": {},
   "outputs": [
    {
     "name": "stdout",
     "output_type": "stream",
     "text": [
      "['Tokenizing', 'text', 'is', 'a', 'core', 'task', 'of', 'NLP.']\n"
     ]
    }
   ],
   "source": [
    "tokenized_text=text.split()\n",
    "print(tokenized_text)"
   ]
  },
  {
   "cell_type": "code",
   "execution_count": 43,
   "id": "1a5a9d88-edf6-46a0-919a-493b903f8e6a",
   "metadata": {},
   "outputs": [
    {
     "data": {
      "text/plain": [
       "'\\n어휘사전이 크면 신경망의 파라미터 역시 많이 필요해져 문제가 된다\\n첫번째 층의 100만차원 -> 1000차원으로 압축해야할 때 -> 100만 X 1000 = 10억개의 가중치를 가진다.\\n이는 GPT-2의 15억개 파라미터를 가진 가장 큰 GPT-2모델과 비슷한 수준이다.\\n-> 입력구조를 유지하며 문자 토큰화와 단어 토큰화를 절충하여  부분단어 토큰화(subword tokenization)를 사용.\\n'"
      ]
     },
     "execution_count": 43,
     "metadata": {},
     "output_type": "execute_result"
    }
   ],
   "source": [
    "'''\n",
    "어휘사전이 크면 신경망의 파라미터 역시 많이 필요해져 문제가 된다\n",
    "첫번째 층의 100만차원 -> 1000차원으로 압축해야할 때 -> 100만 X 1000 = 10억개의 가중치를 가진다.\n",
    "이는 GPT-2의 15억개 파라미터를 가진 가장 큰 GPT-2모델과 비슷한 수준이다.\n",
    "-> 입력구조를 유지하며 문자 토큰화와 단어 토큰화를 절충하여  부분단어 토큰화(subword tokenization)를 사용.\n",
    "'''"
   ]
  },
  {
   "cell_type": "code",
   "execution_count": 44,
   "id": "594e0031-0881-4964-8ec5-0b31a2ee624c",
   "metadata": {},
   "outputs": [],
   "source": [
    "from transformers import AutoTokenizer"
   ]
  },
  {
   "cell_type": "code",
   "execution_count": 45,
   "id": "677b0f2a-9b5e-45b4-9ce5-60653b8439bc",
   "metadata": {},
   "outputs": [],
   "source": [
    "model_ckpt = \"distilbert-base-uncased\"\n",
    "tokenizer=AutoTokenizer.from_pretrained(model_ckpt)"
   ]
  },
  {
   "cell_type": "code",
   "execution_count": 100,
   "id": "ab09637a-631b-40c0-abfe-92d7995b6382",
   "metadata": {},
   "outputs": [],
   "source": [
    "from transformers import DistilBertTokenizer\n",
    "distilbert_tokenizer = DistilBertTokenizer.from_pretrained(model_ckpt)"
   ]
  },
  {
   "cell_type": "code",
   "execution_count": 101,
   "id": "3789e3e4-6d30-40c6-ae9b-8b8c1bfaa1af",
   "metadata": {},
   "outputs": [
    {
     "name": "stdout",
     "output_type": "stream",
     "text": [
      "{'input_ids': [101, 19204, 6026, 3793, 2003, 1037, 4563, 4708, 1997, 17953, 2361, 1012, 102], 'attention_mask': [1, 1, 1, 1, 1, 1, 1, 1, 1, 1, 1, 1, 1]}\n"
     ]
    }
   ],
   "source": [
    "text = \"Tokenizing text is a core task of NLP.\"\n",
    "encoded_text=tokenizer(text)\n",
    "print(encoded_text)"
   ]
  },
  {
   "cell_type": "code",
   "execution_count": 102,
   "id": "9540ea74-c84e-49f7-a45e-574abbd9bec1",
   "metadata": {},
   "outputs": [
    {
     "name": "stdout",
     "output_type": "stream",
     "text": [
      "['[CLS]', 'token', '##izing', 'text', 'is', 'a', 'core', 'task', 'of', 'nl', '##p', '.', '[SEP]']\n"
     ]
    }
   ],
   "source": [
    "tokens=tokenizer.convert_ids_to_tokens(encoded_text.input_ids)\n",
    "print(tokens)"
   ]
  },
  {
   "cell_type": "code",
   "execution_count": 103,
   "id": "f84d17a3-f2c3-4cc9-a5be-0ecc0f313376",
   "metadata": {},
   "outputs": [
    {
     "data": {
      "text/plain": [
       "'[CLS] tokenizing text is a core task of nlp. [SEP]'"
      ]
     },
     "execution_count": 103,
     "metadata": {},
     "output_type": "execute_result"
    }
   ],
   "source": [
    "tokenizer.convert_tokens_to_string(tokens)"
   ]
  },
  {
   "cell_type": "code",
   "execution_count": 104,
   "id": "26d1baee-2971-495e-bd07-173966a4e63c",
   "metadata": {},
   "outputs": [
    {
     "data": {
      "text/plain": [
       "30522"
      ]
     },
     "execution_count": 104,
     "metadata": {},
     "output_type": "execute_result"
    }
   ],
   "source": [
    "tokenizer.vocab_size"
   ]
  },
  {
   "cell_type": "code",
   "execution_count": 105,
   "id": "3c923ccd-737d-4361-a73e-7ac604b6f804",
   "metadata": {},
   "outputs": [
    {
     "data": {
      "text/plain": [
       "512"
      ]
     },
     "execution_count": 105,
     "metadata": {},
     "output_type": "execute_result"
    }
   ],
   "source": [
    "tokenizer.model_max_length"
   ]
  },
  {
   "cell_type": "code",
   "execution_count": 106,
   "id": "3722ce69-16e3-49d8-9d4b-7c9d8fabc714",
   "metadata": {},
   "outputs": [
    {
     "data": {
      "text/plain": [
       "['input_ids', 'attention_mask']"
      ]
     },
     "execution_count": 106,
     "metadata": {},
     "output_type": "execute_result"
    }
   ],
   "source": [
    "tokenizer.model_input_names"
   ]
  },
  {
   "cell_type": "code",
   "execution_count": 107,
   "id": "bb81a9ae-420f-4535-83bd-d39c6dbf68f2",
   "metadata": {},
   "outputs": [],
   "source": [
    "def tokenize(batch):\n",
    "    return tokenizer(batch['text'], padding=True, truncation=True)\n",
    "    #패딩 True -> 최대 길이에 맞게 패딩을 맞춤\n",
    "    #truncation True -> 최대 문맥 크기에 맞춰 샘플을 잘라냄"
   ]
  },
  {
   "cell_type": "code",
   "execution_count": 108,
   "id": "9815ab6e-5dcc-44f9-a7ab-251827907ce8",
   "metadata": {},
   "outputs": [],
   "source": [
    "emotions = load_dataset(\"emotion\")"
   ]
  },
  {
   "cell_type": "code",
   "execution_count": 109,
   "id": "5290fb96-0c8e-4880-9c05-d9a8777c5c6d",
   "metadata": {},
   "outputs": [
    {
     "name": "stdout",
     "output_type": "stream",
     "text": [
      "{'input_ids': [[101, 1045, 2134, 2102, 2514, 26608, 102, 0, 0, 0, 0, 0, 0, 0, 0, 0, 0, 0, 0, 0, 0, 0, 0], [101, 1045, 2064, 2175, 2013, 3110, 2061, 20625, 2000, 2061, 9636, 17772, 2074, 2013, 2108, 2105, 2619, 2040, 14977, 1998, 2003, 8300, 102]], 'attention_mask': [[1, 1, 1, 1, 1, 1, 1, 0, 0, 0, 0, 0, 0, 0, 0, 0, 0, 0, 0, 0, 0, 0, 0], [1, 1, 1, 1, 1, 1, 1, 1, 1, 1, 1, 1, 1, 1, 1, 1, 1, 1, 1, 1, 1, 1, 1]]}\n"
     ]
    }
   ],
   "source": [
    "print(tokenize(emotions[\"train\"][:2]))"
   ]
  },
  {
   "cell_type": "code",
   "execution_count": 110,
   "id": "046e12a8-9134-4701-8bf2-76fa69f92150",
   "metadata": {},
   "outputs": [],
   "source": [
    "emotions_enconded = emotions.map(tokenize, batched=True, batch_size = None)"
   ]
  },
  {
   "cell_type": "code",
   "execution_count": 114,
   "id": "201ee4a8-1e51-4dff-ad34-c02b21a1d01a",
   "metadata": {},
   "outputs": [
    {
     "data": {
      "text/plain": [
       "DatasetDict({\n",
       "    train: Dataset({\n",
       "        features: ['text', 'label', 'input_ids', 'attention_mask'],\n",
       "        num_rows: 16000\n",
       "    })\n",
       "    validation: Dataset({\n",
       "        features: ['text', 'label', 'input_ids', 'attention_mask'],\n",
       "        num_rows: 2000\n",
       "    })\n",
       "    test: Dataset({\n",
       "        features: ['text', 'label', 'input_ids', 'attention_mask'],\n",
       "        num_rows: 2000\n",
       "    })\n",
       "})"
      ]
     },
     "execution_count": 114,
     "metadata": {},
     "output_type": "execute_result"
    }
   ],
   "source": [
    "emotions_enconded"
   ]
  },
  {
   "cell_type": "code",
   "execution_count": 117,
   "id": "9edb950c-6b38-4539-a3c0-b3dd6e34bc99",
   "metadata": {},
   "outputs": [
    {
     "data": {
      "text/plain": [
       "['text', 'label', 'input_ids', 'attention_mask']"
      ]
     },
     "execution_count": 117,
     "metadata": {},
     "output_type": "execute_result"
    }
   ],
   "source": [
    "emotions_enconded['train'].column_names"
   ]
  },
  {
   "cell_type": "markdown",
   "id": "cff11da8-3ee2-4dd1-8bda-99151895887e",
   "metadata": {},
   "source": [
    "## Free Trained Model Load "
   ]
  },
  {
   "cell_type": "code",
   "execution_count": 119,
   "id": "4eb3d17c-aa15-46ce-a70f-c1f8a6f156fd",
   "metadata": {},
   "outputs": [],
   "source": [
    "from transformers import AutoModel\n",
    "import torch"
   ]
  },
  {
   "cell_type": "code",
   "execution_count": 121,
   "id": "57c7ef20-d381-46b3-83c1-251f9527d4d3",
   "metadata": {},
   "outputs": [],
   "source": [
    "model_ckpt='distilbert-base-uncased'\n",
    "device = torch.device(\"cuda\" if torch.cuda.is_available() else \"cpu\" )\n",
    "model = AutoModel.from_pretrained(model_ckpt).to(device)"
   ]
  },
  {
   "cell_type": "markdown",
   "id": "69050e8b-1fca-461b-b9a3-8f05c1e65b51",
   "metadata": {},
   "source": [
    "## 은닉상태 추출"
   ]
  },
  {
   "cell_type": "code",
   "execution_count": 124,
   "id": "a47dca36-e9b6-4d22-afc2-55d369a0104f",
   "metadata": {},
   "outputs": [
    {
     "name": "stdout",
     "output_type": "stream",
     "text": [
      "입력텐서 크기 : torch.Size([1, 6]), [batch_size, n_tokens]\n"
     ]
    }
   ],
   "source": [
    "text = \"this is a test\"\n",
    "inputs = tokenizer(text, return_tensors=\"pt\")\n",
    "print(f\"입력텐서 크기 : {inputs['input_ids'].size()}, [batch_size, n_tokens]\")"
   ]
  },
  {
   "cell_type": "code",
   "execution_count": 126,
   "id": "06bffe1d-10f3-44e4-8ba8-cccfd7c0cd69",
   "metadata": {},
   "outputs": [
    {
     "name": "stdout",
     "output_type": "stream",
     "text": [
      "{'input_ids': tensor([[ 101, 2023, 2003, 1037, 3231,  102]], device='cuda:0'), 'attention_mask': tensor([[1, 1, 1, 1, 1, 1]], device='cuda:0')}\n"
     ]
    }
   ],
   "source": [
    "inputs = {k:v.to(device) for k, v in inputs.items()}\n",
    "with torch.no_grad():\n",
    "    outputs = model(**inputs)\n",
    "print(inputs)"
   ]
  },
  {
   "cell_type": "code",
   "execution_count": 131,
   "id": "86dd341c-012c-4e80-92a4-d9cc5aaa7a35",
   "metadata": {},
   "outputs": [
    {
     "data": {
      "text/plain": [
       "torch.Size([1, 6, 768])"
      ]
     },
     "execution_count": 131,
     "metadata": {},
     "output_type": "execute_result"
    }
   ],
   "source": [
    "outputs.last_hidden_state.size() # [batch, n_tokens, hidden_dim]"
   ]
  },
  {
   "cell_type": "code",
   "execution_count": 132,
   "id": "7ff82779-9ebe-4860-81a0-140efdb400b4",
   "metadata": {},
   "outputs": [
    {
     "data": {
      "text/plain": [
       "torch.Size([1, 768])"
      ]
     },
     "execution_count": 132,
     "metadata": {},
     "output_type": "execute_result"
    }
   ],
   "source": [
    "outputs.last_hidden_state[:,0].size()"
   ]
  },
  {
   "cell_type": "code",
   "execution_count": 134,
   "id": "cc641647-aab2-4ec5-afa1-02f8db2ec75e",
   "metadata": {},
   "outputs": [],
   "source": [
    "def extract_hidden_states(batch):\n",
    "    inputs = {k:v.to(device) for k, v in batch.items()\n",
    "                 if k in tokenizer.model_input_names}\n",
    "    with torch.no_grad():\n",
    "        last_hidden_state = model(**inputs).last_hidden_state\n",
    "    return {\"hidden_state\": last_hidden_state[:,0].cpu().numpy()}"
   ]
  },
  {
   "cell_type": "code",
   "execution_count": 139,
   "id": "6f8cd5e3-de50-41a2-b742-64735a3a3be4",
   "metadata": {},
   "outputs": [],
   "source": [
    "emotion_encoded.set_format(\"torch\", columns =['input_ids','attention_mask','label'])"
   ]
  },
  {
   "cell_type": "code",
   "execution_count": 140,
   "id": "0239f69f-d202-4d76-b1c3-2ea6bfb5698b",
   "metadata": {},
   "outputs": [
    {
     "data": {
      "application/vnd.jupyter.widget-view+json": {
       "model_id": "8f8d66e1eef14467a62f29d04b2f46f4",
       "version_major": 2,
       "version_minor": 0
      },
      "text/plain": [
       "Map:   0%|          | 0/16000 [00:00<?, ? examples/s]"
      ]
     },
     "metadata": {},
     "output_type": "display_data"
    },
    {
     "data": {
      "application/vnd.jupyter.widget-view+json": {
       "model_id": "566280f03b2a46ea825fdf6dff52bb8b",
       "version_major": 2,
       "version_minor": 0
      },
      "text/plain": [
       "Map:   0%|          | 0/2000 [00:00<?, ? examples/s]"
      ]
     },
     "metadata": {},
     "output_type": "display_data"
    },
    {
     "data": {
      "application/vnd.jupyter.widget-view+json": {
       "model_id": "75de68b185124f0cbe22cbe6c9216c7f",
       "version_major": 2,
       "version_minor": 0
      },
      "text/plain": [
       "Map:   0%|          | 0/2000 [00:00<?, ? examples/s]"
      ]
     },
     "metadata": {},
     "output_type": "display_data"
    }
   ],
   "source": [
    "emotions_hidden = emotion_encoded.map(extract_hidden_states, batched = True)"
   ]
  },
  {
   "cell_type": "code",
   "execution_count": 141,
   "id": "fe423a83-7fb0-48fe-bb1f-60da806eb8c7",
   "metadata": {},
   "outputs": [
    {
     "data": {
      "text/plain": [
       "DatasetDict({\n",
       "    train: Dataset({\n",
       "        features: ['text', 'label', 'input_ids', 'attention_mask', 'hidden_state'],\n",
       "        num_rows: 16000\n",
       "    })\n",
       "    validation: Dataset({\n",
       "        features: ['text', 'label', 'input_ids', 'attention_mask', 'hidden_state'],\n",
       "        num_rows: 2000\n",
       "    })\n",
       "    test: Dataset({\n",
       "        features: ['text', 'label', 'input_ids', 'attention_mask', 'hidden_state'],\n",
       "        num_rows: 2000\n",
       "    })\n",
       "})"
      ]
     },
     "execution_count": 141,
     "metadata": {},
     "output_type": "execute_result"
    }
   ],
   "source": [
    "emotions_hidden"
   ]
  },
  {
   "cell_type": "code",
   "execution_count": 142,
   "id": "63c5da90-96a5-4b76-94b6-c17f005b3e15",
   "metadata": {},
   "outputs": [
    {
     "name": "stderr",
     "output_type": "stream",
     "text": [
      "/tmp/ipykernel_1000/1083763661.py:2: DeprecationWarning: __array__ implementation doesn't accept a copy keyword, so passing copy=False failed. __array__ must implement 'dtype' and 'copy' keyword arguments.\n",
      "  X_train = np.array(emotions_hidden['train']['hidden_state'])\n",
      "/tmp/ipykernel_1000/1083763661.py:3: DeprecationWarning: __array__ implementation doesn't accept a copy keyword, so passing copy=False failed. __array__ must implement 'dtype' and 'copy' keyword arguments.\n",
      "  X_valid = np.array(emotions_hidden['validation']['hidden_state'])\n",
      "/tmp/ipykernel_1000/1083763661.py:4: DeprecationWarning: __array__ implementation doesn't accept a copy keyword, so passing copy=False failed. __array__ must implement 'dtype' and 'copy' keyword arguments.\n",
      "  y_train = np.array(emotions_hidden['train']['label'])\n",
      "/tmp/ipykernel_1000/1083763661.py:5: DeprecationWarning: __array__ implementation doesn't accept a copy keyword, so passing copy=False failed. __array__ must implement 'dtype' and 'copy' keyword arguments.\n",
      "  y_valid = np.array(emotions_hidden['validation']['label'])\n"
     ]
    },
    {
     "data": {
      "text/plain": [
       "((16000, 768), (2000, 768))"
      ]
     },
     "execution_count": 142,
     "metadata": {},
     "output_type": "execute_result"
    }
   ],
   "source": [
    "import numpy as np\n",
    "X_train = np.array(emotions_hidden['train']['hidden_state'])\n",
    "X_valid = np.array(emotions_hidden['validation']['hidden_state'])\n",
    "y_train = np.array(emotions_hidden['train']['label'])\n",
    "y_valid = np.array(emotions_hidden['validation']['label'])\n",
    "X_train.shape, X_valid.shape"
   ]
  },
  {
   "cell_type": "code",
   "execution_count": 184,
   "id": "e5055495-8cb7-4586-b81f-bda47bd6e89a",
   "metadata": {},
   "outputs": [
    {
     "ename": "ImportError",
     "evalue": "cannot import name 'UMAP' from 'umap' (/opt/conda/lib/python3.11/site-packages/umap/__init__.py)",
     "output_type": "error",
     "traceback": [
      "\u001b[0;31m---------------------------------------------------------------------------\u001b[0m",
      "\u001b[0;31mImportError\u001b[0m                               Traceback (most recent call last)",
      "Cell \u001b[0;32mIn[184], line 1\u001b[0m\n\u001b[0;32m----> 1\u001b[0m \u001b[38;5;28;01mfrom\u001b[39;00m \u001b[38;5;21;01mumap\u001b[39;00m \u001b[38;5;28;01mimport\u001b[39;00m UMAP\n\u001b[1;32m      2\u001b[0m \u001b[38;5;28;01mfrom\u001b[39;00m \u001b[38;5;21;01msklearn\u001b[39;00m\u001b[38;5;21;01m.\u001b[39;00m\u001b[38;5;21;01mpreprocessing\u001b[39;00m \u001b[38;5;28;01mimport\u001b[39;00m MinMaxScaler\n",
      "\u001b[0;31mImportError\u001b[0m: cannot import name 'UMAP' from 'umap' (/opt/conda/lib/python3.11/site-packages/umap/__init__.py)"
     ]
    }
   ],
   "source": [
    "from umap import UMAP\n",
    "from sklearn.preprocessing import MinMaxScaler"
   ]
  },
  {
   "cell_type": "code",
   "execution_count": 175,
   "id": "bb18dee8-4393-4300-8888-02982801cae5",
   "metadata": {},
   "outputs": [
    {
     "ename": "AttributeError",
     "evalue": "module 'umap' has no attribute 'UMAP'",
     "output_type": "error",
     "traceback": [
      "\u001b[0;31m---------------------------------------------------------------------------\u001b[0m",
      "\u001b[0;31mAttributeError\u001b[0m                            Traceback (most recent call last)",
      "Cell \u001b[0;32mIn[175], line 4\u001b[0m\n\u001b[1;32m      2\u001b[0m X_scaled \u001b[38;5;241m=\u001b[39m MinMaxScaler()\u001b[38;5;241m.\u001b[39mfit_transform(X_train)\n\u001b[1;32m      3\u001b[0m \u001b[38;5;66;03m# UMAP 객체를 생성하고 훈련한다\u001b[39;00m\n\u001b[0;32m----> 4\u001b[0m mapper \u001b[38;5;241m=\u001b[39m \u001b[43mumap\u001b[49m\u001b[38;5;241;43m.\u001b[39;49m\u001b[43mUMAP\u001b[49m()\n",
      "\u001b[0;31mAttributeError\u001b[0m: module 'umap' has no attribute 'UMAP'"
     ]
    }
   ],
   "source": [
    "# 특성 스케일을 [0,1]범위로 조정한다\n",
    "X_scaled = MinMaxScaler().fit_transform(X_train)\n",
    "# UMAP 객체를 생성하고 훈련한다\n",
    "mapper = umap.UMAP()"
   ]
  },
  {
   "cell_type": "code",
   "execution_count": 178,
   "id": "0041075c-fd6b-4233-abdd-cdd78c2912df",
   "metadata": {},
   "outputs": [],
   "source": [
    "import umap"
   ]
  },
  {
   "cell_type": "code",
   "execution_count": 183,
   "id": "99defa54-f819-49ea-b474-944e0936cc89",
   "metadata": {},
   "outputs": [
    {
     "name": "stderr",
     "output_type": "stream",
     "text": [
      "huggingface/tokenizers: The current process just got forked, after parallelism has already been used. Disabling parallelism to avoid deadlocks...\n",
      "To disable this warning, you can either:\n",
      "\t- Avoid using `tokenizers` before the fork if possible\n",
      "\t- Explicitly set the environment variable TOKENIZERS_PARALLELISM=(true | false)\n"
     ]
    },
    {
     "name": "stdout",
     "output_type": "stream",
     "text": [
      "Package                   Version\n",
      "------------------------- --------------\n",
      "aiohappyeyeballs          2.4.3\n",
      "aiohttp                   3.10.9\n",
      "aiosignal                 1.3.1\n",
      "anyio                     4.6.0\n",
      "archspec                  0.2.3\n",
      "argon2-cffi               23.1.0\n",
      "argon2-cffi-bindings      21.2.0\n",
      "arrow                     1.3.0\n",
      "asttokens                 2.4.1\n",
      "astunparse                1.6.3\n",
      "async-lru                 2.0.4\n",
      "attrs                     24.2.0\n",
      "babel                     2.16.0\n",
      "beautifulsoup4            4.12.3\n",
      "bleach                    6.1.0\n",
      "boltons                   24.0.0\n",
      "Brotli                    1.1.0\n",
      "certifi                   2024.8.30\n",
      "cffi                      1.17.0\n",
      "chardet                   5.2.0\n",
      "charset-normalizer        3.3.2\n",
      "click                     8.1.7\n",
      "colorama                  0.4.6\n",
      "comm                      0.2.2\n",
      "conda                     24.7.1\n",
      "conda-build               24.7.1\n",
      "conda_index               0.5.0\n",
      "conda-libmamba-solver     24.7.0\n",
      "conda-package-handling    2.3.0\n",
      "conda_package_streaming   0.10.0\n",
      "contourpy                 1.3.0\n",
      "cycler                    0.12.1\n",
      "datasets                  3.0.1\n",
      "debugpy                   1.8.6\n",
      "decorator                 5.1.1\n",
      "defusedxml                0.7.1\n",
      "dill                      0.3.8\n",
      "distro                    1.9.0\n",
      "dnspython                 2.6.1\n",
      "exceptiongroup            1.2.2\n",
      "executing                 2.1.0\n",
      "expecttest                0.2.1\n",
      "fastjsonschema            2.20.0\n",
      "filelock                  3.15.4\n",
      "fonttools                 4.54.1\n",
      "fqdn                      1.5.1\n",
      "frozendict                2.4.4\n",
      "frozenlist                1.4.1\n",
      "fsspec                    2024.6.1\n",
      "h11                       0.14.0\n",
      "h2                        4.1.0\n",
      "hpack                     4.0.0\n",
      "httpcore                  1.0.6\n",
      "httpx                     0.27.2\n",
      "huggingface-hub           0.25.1\n",
      "hyperframe                6.0.1\n",
      "hypothesis                6.111.2\n",
      "idna                      3.8\n",
      "importlib_resources       6.4.4\n",
      "ipykernel                 6.29.5\n",
      "ipython                   8.27.0\n",
      "ipywidgets                8.1.5\n",
      "isoduration               20.11.0\n",
      "jedi                      0.19.1\n",
      "Jinja2                    3.1.4\n",
      "joblib                    1.4.2\n",
      "json5                     0.9.25\n",
      "jsonpatch                 1.33\n",
      "jsonpointer               3.0.0\n",
      "jsonschema                4.23.0\n",
      "jsonschema-specifications 2023.12.1\n",
      "jupyter                   1.1.1\n",
      "jupyter_client            8.6.3\n",
      "jupyter-console           6.6.3\n",
      "jupyter_core              5.7.2\n",
      "jupyter-events            0.10.0\n",
      "jupyter-lsp               2.2.5\n",
      "jupyter_server            2.14.2\n",
      "jupyter_server_terminals  0.5.3\n",
      "jupyterlab                4.2.5\n",
      "jupyterlab_pygments       0.3.0\n",
      "jupyterlab_server         2.27.3\n",
      "jupyterlab_widgets        3.0.13\n",
      "kiwisolver                1.4.7\n",
      "libarchive-c              5.1\n",
      "libmambapy                1.5.9\n",
      "lief                      0.14.1\n",
      "lintrunner                0.12.5\n",
      "llvmlite                  0.43.0\n",
      "mamba                     1.5.9\n",
      "MarkupSafe                2.1.5\n",
      "matplotlib                3.9.2\n",
      "matplotlib-inline         0.1.7\n",
      "menuinst                  2.1.2\n",
      "mistune                   3.0.2\n",
      "more-itertools            10.4.0\n",
      "mpmath                    1.3.0\n",
      "multidict                 6.1.0\n",
      "multiprocess              0.70.16\n",
      "nbclient                  0.10.0\n",
      "nbconvert                 7.16.4\n",
      "nbformat                  5.10.4\n",
      "nest-asyncio              1.6.0\n",
      "networkx                  3.3\n",
      "ninja                     1.11.1.1\n",
      "notebook                  7.2.2\n",
      "notebook_shim             0.2.4\n",
      "numba                     0.60.0\n",
      "numpy                     2.0.2\n",
      "nvidia-cublas-cu12        12.4.2.65\n",
      "nvidia-cuda-cupti-cu12    12.4.99\n",
      "nvidia-cuda-nvrtc-cu12    12.4.99\n",
      "nvidia-cuda-runtime-cu12  12.4.99\n",
      "nvidia-cudnn-cu12         9.1.0.70\n",
      "nvidia-cufft-cu12         11.2.0.44\n",
      "nvidia-curand-cu12        10.3.5.119\n",
      "nvidia-cusolver-cu12      11.6.0.99\n",
      "nvidia-cusparse-cu12      12.3.0.142\n",
      "nvidia-nccl-cu12          2.20.5\n",
      "nvidia-nvjitlink-cu12     12.4.99\n",
      "nvidia-nvtx-cu12          12.4.99\n",
      "optree                    0.12.1\n",
      "overrides                 7.7.0\n",
      "packaging                 24.1\n",
      "pandas                    2.2.3\n",
      "pandocfilters             1.5.1\n",
      "parso                     0.8.4\n",
      "pexpect                   4.9.0\n",
      "pickleshare               0.7.5\n",
      "pillow                    10.2.0\n",
      "pip                       24.2\n",
      "pkginfo                   1.11.1\n",
      "pkgutil_resolve_name      1.3.10\n",
      "platformdirs              4.2.2\n",
      "pluggy                    1.5.0\n",
      "prometheus_client         0.21.0\n",
      "prompt_toolkit            3.0.47\n",
      "psutil                    6.0.0\n",
      "ptyprocess                0.7.0\n",
      "pure_eval                 0.2.3\n",
      "pyarrow                   17.0.0\n",
      "pycosat                   0.6.6\n",
      "pycparser                 2.22\n",
      "Pygments                  2.18.0\n",
      "pynndescent               0.5.13\n",
      "pyparsing                 3.1.4\n",
      "PySocks                   1.7.1\n",
      "python-dateutil           2.9.0.post0\n",
      "python-etcd               0.4.5\n",
      "python-json-logger        2.0.7\n",
      "pytz                      2024.1\n",
      "PyYAML                    6.0.2\n",
      "pyzmq                     26.2.0\n",
      "referencing               0.35.1\n",
      "regex                     2024.9.11\n",
      "requests                  2.32.3\n",
      "rfc3339-validator         0.1.4\n",
      "rfc3986-validator         0.1.1\n",
      "rpds-py                   0.20.0\n",
      "ruamel.yaml               0.18.6\n",
      "ruamel.yaml.clib          0.2.8\n",
      "safetensors               0.4.5\n",
      "scikit-learn              1.5.2\n",
      "scipy                     1.14.1\n",
      "Send2Trash                1.8.3\n",
      "setuptools                73.0.1\n",
      "six                       1.16.0\n",
      "sniffio                   1.3.1\n",
      "sortedcontainers          2.4.0\n",
      "soupsieve                 2.5\n",
      "stack-data                0.6.2\n",
      "sympy                     1.13.2\n",
      "terminado                 0.18.1\n",
      "threadpoolctl             3.5.0\n",
      "tinycss2                  1.3.0\n",
      "tokenizers                0.20.0\n",
      "torch                     2.4.1+cu124\n",
      "torchaudio                2.4.1+cu124\n",
      "torchelastic              0.2.2\n",
      "torchvision               0.19.1+cu124\n",
      "tornado                   6.4.1\n",
      "tqdm                      4.66.5\n",
      "traitlets                 5.14.3\n",
      "transformers              4.45.2\n",
      "triton                    3.0.0\n",
      "truststore                0.9.2\n",
      "types-dataclasses         0.6.6\n",
      "types-python-dateutil     2.9.0.20241003\n",
      "typing_extensions         4.12.2\n",
      "tzdata                    2024.2\n",
      "umap-learn                0.5.6\n",
      "uri-template              1.3.0\n",
      "urllib3                   2.2.2\n",
      "wcwidth                   0.2.13\n",
      "webcolors                 24.8.0\n",
      "webencodings              0.5.1\n",
      "websocket-client          1.8.0\n",
      "wheel                     0.44.0\n",
      "widgetsnbextension        4.0.13\n",
      "xxhash                    3.5.0\n",
      "yarl                      1.13.1\n",
      "zipp                      3.20.1\n",
      "zstandard                 0.23.0\n"
     ]
    }
   ],
   "source": [
    "!pip list"
   ]
  },
  {
   "cell_type": "code",
   "execution_count": null,
   "id": "c330ba78-a349-4cd6-951c-8d7acb92fb9c",
   "metadata": {},
   "outputs": [],
   "source": []
  }
 ],
 "metadata": {
  "kernelspec": {
   "display_name": "Python 3 (ipykernel)",
   "language": "python",
   "name": "python3"
  },
  "language_info": {
   "codemirror_mode": {
    "name": "ipython",
    "version": 3
   },
   "file_extension": ".py",
   "mimetype": "text/x-python",
   "name": "python",
   "nbconvert_exporter": "python",
   "pygments_lexer": "ipython3",
   "version": "3.11.9"
  }
 },
 "nbformat": 4,
 "nbformat_minor": 5
}
