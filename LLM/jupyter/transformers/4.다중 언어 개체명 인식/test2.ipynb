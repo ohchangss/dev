{
 "cells": [
  {
   "cell_type": "code",
   "execution_count": 41,
   "id": "2f9d5559-38f5-4bd6-9988-bae604ebdc11",
   "metadata": {},
   "outputs": [],
   "source": [
    "from datasets import load_dataset\n",
    "from datasets import get_dataset_config_names\n",
    "from collections import defaultdict\n",
    "from datasets import DatasetDict\n",
    "import pandas as pd"
   ]
  },
  {
   "cell_type": "markdown",
   "id": "de41290e-1d26-4716-9cfe-ac10d364c4fb",
   "metadata": {},
   "source": [
    "# Meata data"
   ]
  },
  {
   "cell_type": "code",
   "execution_count": 33,
   "id": "e0c4cd71-c831-4fc9-90b4-72632669ce45",
   "metadata": {},
   "outputs": [],
   "source": [
    "datasets = 'xtreme'\n",
    "sub_datasets = 'PAN-X.'\n",
    "NA_name = ['de','fr','it','en']\n",
    "fracs=[0.629,0.229,0.084,0.059]\n",
    "num_seed = 0"
   ]
  },
  {
   "cell_type": "code",
   "execution_count": 18,
   "id": "0c04372c-2e17-482e-8529-a89fb3fb0d2a",
   "metadata": {},
   "outputs": [],
   "source": [
    "datasets_list=get_dataset_config_names(datasets)\n",
    "panx=[s for s in datasets_list if s.startswith(sub_datasets)]"
   ]
  },
  {
   "cell_type": "code",
   "execution_count": 21,
   "id": "074157b8-ee1b-4155-9fa0-69665c45549d",
   "metadata": {},
   "outputs": [],
   "source": [
    "ds=load_dataset(datasets, name=f\"PAN-X.ko\")"
   ]
  },
  {
   "cell_type": "markdown",
   "id": "a31c160c-94be-497f-afa0-8b387791399b",
   "metadata": {},
   "source": [
    "# 필요한 데이터 학습 데이터 생성"
   ]
  },
  {
   "cell_type": "code",
   "execution_count": 38,
   "id": "1c253f0a-f5da-4672-818a-72146bc04765",
   "metadata": {},
   "outputs": [],
   "source": [
    "panx_ds=defaultdict(DatasetDict)\n",
    "\n",
    "for na, frac in zip(NA_name, fracs):\n",
    "    ds=load_dataset(datasets, name=f\"PAN-X.{na}\")\n",
    "    for split in ds:\n",
    "        panx_ds[na][split]=(\n",
    "            ds[split].shuffle(seed=num_seed)\n",
    "                 .select(range(int(frac * ds[split].num_rows)))\n",
    "        )"
   ]
  },
  {
   "cell_type": "markdown",
   "id": "13bd873f-eaa0-40b1-b7b2-e4a12dee8f2f",
   "metadata": {},
   "source": [
    "# train data len"
   ]
  },
  {
   "cell_type": "code",
   "execution_count": 52,
   "id": "1903ea4e-2c65-4458-998d-da7fada77711",
   "metadata": {},
   "outputs": [
    {
     "data": {
      "text/html": [
       "<div>\n",
       "<style scoped>\n",
       "    .dataframe tbody tr th:only-of-type {\n",
       "        vertical-align: middle;\n",
       "    }\n",
       "\n",
       "    .dataframe tbody tr th {\n",
       "        vertical-align: top;\n",
       "    }\n",
       "\n",
       "    .dataframe thead th {\n",
       "        text-align: right;\n",
       "    }\n",
       "</style>\n",
       "<table border=\"1\" class=\"dataframe\">\n",
       "  <thead>\n",
       "    <tr style=\"text-align: right;\">\n",
       "      <th></th>\n",
       "      <th>de</th>\n",
       "      <th>fr</th>\n",
       "      <th>it</th>\n",
       "      <th>en</th>\n",
       "    </tr>\n",
       "  </thead>\n",
       "  <tbody>\n",
       "    <tr>\n",
       "      <th>train data_num</th>\n",
       "      <td>12580</td>\n",
       "      <td>4580</td>\n",
       "      <td>1680</td>\n",
       "      <td>1180</td>\n",
       "    </tr>\n",
       "  </tbody>\n",
       "</table>\n",
       "</div>"
      ],
      "text/plain": [
       "                   de    fr    it    en\n",
       "train data_num  12580  4580  1680  1180"
      ]
     },
     "execution_count": 52,
     "metadata": {},
     "output_type": "execute_result"
    }
   ],
   "source": [
    "pd.DataFrame({na:[panx_ds[na]['train'].num_rows] for na in NA_name},\n",
    "            ['train data_num'])"
   ]
  },
  {
   "cell_type": "markdown",
   "id": "4b838efd-da7b-4edb-b029-e61814344881",
   "metadata": {},
   "source": [
    "# data example"
   ]
  },
  {
   "cell_type": "code",
   "execution_count": 57,
   "id": "281168dc-2701-430d-b0ab-ebe308885dc4",
   "metadata": {},
   "outputs": [
    {
     "name": "stdout",
     "output_type": "stream",
     "text": [
      "{'tokens': ['2.000', 'Einwohnern', 'an', 'der', 'Danziger', 'Bucht', 'in', 'der', 'polnischen', 'Woiwodschaft', 'Pommern', '.']}\n",
      "{'ner_tags': [0, 0, 0, 0, 5, 6, 0, 0, 5, 5, 6, 0]}\n",
      "{'langs': ['de', 'de', 'de', 'de', 'de', 'de', 'de', 'de', 'de', 'de', 'de', 'de']}\n"
     ]
    }
   ],
   "source": [
    "elements=panx_ds['de']['train'][0]\n",
    "for k,v in elements.items():\n",
    "    print({k:v})"
   ]
  },
  {
   "cell_type": "markdown",
   "id": "668a31ab-072a-4529-b464-a9bbcaa5075d",
   "metadata": {},
   "source": [
    "# data info"
   ]
  },
  {
   "cell_type": "code",
   "execution_count": 60,
   "id": "346ec7ae-f4a0-4a21-ab62-b4f2d6768de3",
   "metadata": {},
   "outputs": [
    {
     "name": "stdout",
     "output_type": "stream",
     "text": [
      "{'tokens': Sequence(feature=Value(dtype='string', id=None), length=-1, id=None)}\n",
      "{'ner_tags': Sequence(feature=ClassLabel(names=['O', 'B-PER', 'I-PER', 'B-ORG', 'I-ORG', 'B-LOC', 'I-LOC'], id=None), length=-1, id=None)}\n",
      "{'langs': Sequence(feature=Value(dtype='string', id=None), length=-1, id=None)}\n"
     ]
    }
   ],
   "source": [
    "for k,v  in panx_ds['de']['train'].features.items():\n",
    "    print({k:v})"
   ]
  },
  {
   "cell_type": "markdown",
   "id": "99157753-4811-4dde-8159-a29553542333",
   "metadata": {},
   "source": [
    "# add data features(ner int 2 str)"
   ]
  },
  {
   "cell_type": "code",
   "execution_count": 90,
   "id": "02a449f0-0fac-4ee2-882a-158dfdceadbc",
   "metadata": {},
   "outputs": [],
   "source": [
    "tag=panx_ds['de']['train'].features['ner_tags'].feature\n",
    "\n",
    "def ner_create_name(batch):\n",
    "    return {'ner_str_name':[tag.int2str(index) for index in batch['ner_tags']]}\n",
    "for ns in NA_name:\n",
    "    panx_ds[ns] = panx_ds[ns].map(ner_create_name)"
   ]
  },
  {
   "cell_type": "code",
   "execution_count": 91,
   "id": "6d63ef5d-246e-4f05-ba46-3a4d3b503478",
   "metadata": {},
   "outputs": [
    {
     "name": "stdout",
     "output_type": "stream",
     "text": [
      "{'tokens': ['2.000', 'Einwohnern', 'an', 'der', 'Danziger', 'Bucht', 'in', 'der', 'polnischen', 'Woiwodschaft', 'Pommern', '.']}\n",
      "{'ner_tags': [0, 0, 0, 0, 5, 6, 0, 0, 5, 5, 6, 0]}\n",
      "{'langs': ['de', 'de', 'de', 'de', 'de', 'de', 'de', 'de', 'de', 'de', 'de', 'de']}\n",
      "{'ner_str_name': ['O', 'O', 'O', 'O', 'B-LOC', 'I-LOC', 'O', 'O', 'B-LOC', 'B-LOC', 'I-LOC', 'O']}\n"
     ]
    }
   ],
   "source": [
    "for k,v in panx_ds['de']['train'][0].items():\n",
    "    print({k:v})"
   ]
  },
  {
   "cell_type": "code",
   "execution_count": 107,
   "id": "3e500366-4326-4c51-9b69-895f859dc8bc",
   "metadata": {},
   "outputs": [
    {
     "data": {
      "text/html": [
       "<div>\n",
       "<style scoped>\n",
       "    .dataframe tbody tr th:only-of-type {\n",
       "        vertical-align: middle;\n",
       "    }\n",
       "\n",
       "    .dataframe tbody tr th {\n",
       "        vertical-align: top;\n",
       "    }\n",
       "\n",
       "    .dataframe thead th {\n",
       "        text-align: right;\n",
       "    }\n",
       "</style>\n",
       "<table border=\"1\" class=\"dataframe\">\n",
       "  <thead>\n",
       "    <tr style=\"text-align: right;\">\n",
       "      <th></th>\n",
       "      <th>0</th>\n",
       "      <th>1</th>\n",
       "      <th>2</th>\n",
       "      <th>3</th>\n",
       "      <th>4</th>\n",
       "      <th>5</th>\n",
       "      <th>6</th>\n",
       "      <th>7</th>\n",
       "      <th>8</th>\n",
       "      <th>9</th>\n",
       "      <th>10</th>\n",
       "      <th>11</th>\n",
       "    </tr>\n",
       "  </thead>\n",
       "  <tbody>\n",
       "    <tr>\n",
       "      <th>tokens</th>\n",
       "      <td>2.000</td>\n",
       "      <td>Einwohnern</td>\n",
       "      <td>an</td>\n",
       "      <td>der</td>\n",
       "      <td>Danziger</td>\n",
       "      <td>Bucht</td>\n",
       "      <td>in</td>\n",
       "      <td>der</td>\n",
       "      <td>polnischen</td>\n",
       "      <td>Woiwodschaft</td>\n",
       "      <td>Pommern</td>\n",
       "      <td>.</td>\n",
       "    </tr>\n",
       "    <tr>\n",
       "      <th>ner_str_name</th>\n",
       "      <td>O</td>\n",
       "      <td>O</td>\n",
       "      <td>O</td>\n",
       "      <td>O</td>\n",
       "      <td>B-LOC</td>\n",
       "      <td>I-LOC</td>\n",
       "      <td>O</td>\n",
       "      <td>O</td>\n",
       "      <td>B-LOC</td>\n",
       "      <td>B-LOC</td>\n",
       "      <td>I-LOC</td>\n",
       "      <td>O</td>\n",
       "    </tr>\n",
       "  </tbody>\n",
       "</table>\n",
       "</div>"
      ],
      "text/plain": [
       "                 0           1   2    3         4      5   6    7   \\\n",
       "tokens        2.000  Einwohnern  an  der  Danziger  Bucht  in  der   \n",
       "ner_str_name      O           O   O    O     B-LOC  I-LOC   O    O   \n",
       "\n",
       "                      8             9        10 11  \n",
       "tokens        polnischen  Woiwodschaft  Pommern  .  \n",
       "ner_str_name       B-LOC         B-LOC    I-LOC  O  "
      ]
     },
     "execution_count": 107,
     "metadata": {},
     "output_type": "execute_result"
    }
   ],
   "source": [
    "pd.DataFrame([panx_ds['de']['train'][0]['tokens'], panx_ds['de']['train'][0]['ner_str_name']],\n",
    "            index = ['tokens','ner_str_name'])"
   ]
  },
  {
   "cell_type": "code",
   "execution_count": 110,
   "id": "6cb93be5-653d-49f8-bfb1-cd78500f700d",
   "metadata": {},
   "outputs": [
    {
     "data": {
      "text/html": [
       "<div>\n",
       "<style scoped>\n",
       "    .dataframe tbody tr th:only-of-type {\n",
       "        vertical-align: middle;\n",
       "    }\n",
       "\n",
       "    .dataframe tbody tr th {\n",
       "        vertical-align: top;\n",
       "    }\n",
       "\n",
       "    .dataframe thead th {\n",
       "        text-align: right;\n",
       "    }\n",
       "</style>\n",
       "<table border=\"1\" class=\"dataframe\">\n",
       "  <thead>\n",
       "    <tr style=\"text-align: right;\">\n",
       "      <th></th>\n",
       "      <th>train</th>\n",
       "      <th>validation</th>\n",
       "      <th>test</th>\n",
       "    </tr>\n",
       "  </thead>\n",
       "  <tbody>\n",
       "    <tr>\n",
       "      <th>LOC</th>\n",
       "      <td>6186</td>\n",
       "      <td>3172</td>\n",
       "      <td>3180</td>\n",
       "    </tr>\n",
       "    <tr>\n",
       "      <th>ORG</th>\n",
       "      <td>5366</td>\n",
       "      <td>2683</td>\n",
       "      <td>2573</td>\n",
       "    </tr>\n",
       "    <tr>\n",
       "      <th>PER</th>\n",
       "      <td>5810</td>\n",
       "      <td>2893</td>\n",
       "      <td>3071</td>\n",
       "    </tr>\n",
       "  </tbody>\n",
       "</table>\n",
       "</div>"
      ],
      "text/plain": [
       "     train  validation  test\n",
       "LOC   6186        3172  3180\n",
       "ORG   5366        2683  2573\n",
       "PER   5810        2893  3071"
      ]
     },
     "execution_count": 110,
     "metadata": {},
     "output_type": "execute_result"
    }
   ],
   "source": [
    "from collections import Counter\n",
    "\n",
    "split2freqs = defaultdict(Counter)\n",
    "for split,dataset in panx_ds['de'].items():\n",
    "    for row in dataset['ner_str_name']:\n",
    "        for tag in row:\n",
    "            if tag.startswith(\"B\"):\n",
    "                tag_type = tag.split(\"-\")[-1]\n",
    "                split2freqs[split][tag_type] += 1\n",
    "pd.DataFrame.from_dict(split2freqs)"
   ]
  },
  {
   "cell_type": "code",
   "execution_count": null,
   "id": "6dee640a-4c36-4e52-b126-3ff4e236f002",
   "metadata": {},
   "outputs": [],
   "source": [
    "from collections import Counter\n",
    "\n",
    "split2freqs = defaultdict(Counter)\n",
    "for split, dataset in panx_de.items():\n",
    "    for row in dataset['ner_tags_str']:\n",
    "        for tag in row:\n",
    "            if tag.startswith(\"B\"):\n",
    "                tag_type = tag.split(\"-\")[1]\n",
    "                split2freqs[split][tag_type] += 1\n",
    "pd.DataFrame.from_dict(split2freqs, orient='index')                \n",
    "    "
   ]
  }
 ],
 "metadata": {
  "kernelspec": {
   "display_name": "Python 3 (ipykernel)",
   "language": "python",
   "name": "python3"
  },
  "language_info": {
   "codemirror_mode": {
    "name": "ipython",
    "version": 3
   },
   "file_extension": ".py",
   "mimetype": "text/x-python",
   "name": "python",
   "nbconvert_exporter": "python",
   "pygments_lexer": "ipython3",
   "version": "3.11.9"
  }
 },
 "nbformat": 4,
 "nbformat_minor": 5
}
